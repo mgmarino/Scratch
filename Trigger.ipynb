{
 "cells": [
  {
   "cell_type": "code",
   "execution_count": 1,
   "metadata": {
    "collapsed": false
   },
   "outputs": [
    {
     "name": "stdout",
     "output_type": "stream",
     "text": [
      "Found 1 measurements\n",
      "\n"
     ]
    }
   ],
   "source": [
    "import pynedm\n",
    "\n",
    "\n",
    "# Authentication\n",
    "po = pynedm.ProcessObject(\"http://10.155.59.88:5984\", \"un\", \"\"\"pw\"\"\", \"nedm%2Fmeasurements\")\n",
    "acct = po.acct\n",
    "\n",
    "# Grab the correct database\n",
    "db = acct[\"nedm%2Fmeasurements\"]\n",
    "\n",
    "# Get a list of measurements\n",
    "# The query here is important, measure_name can be the initial stem of a set of\n",
    "# measurements.  (Note: regular expressions are *not* supported by couch) This\n",
    "# is used to define the endkey and startkey in the following query.\n",
    "measure_name = \"Mike Triggering\"\n",
    "query_dic = dict(descending=True,\n",
    "                 endkey=[measure_name, 2015, 9, 16], # Gets on a particular day (16 June 2016)\n",
    "                 startkey=[measure_name + \"\\ufff0\", 2015, 9, 16, {}],\n",
    "                 #endkey=[measure_name], # Gets *all* measurements with this stem\n",
    "                 #startkey=[measure_name + \"\\ufff0\", {}],\n",
    "                 include_docs=True,\n",
    "                 reduce=False\n",
    "                 )\n",
    "\n",
    "res = db.design('measurements').view('measurements').get(\n",
    "                    params=query_dic)\n",
    "\n",
    "\n",
    "# Get ids of documents\n",
    "all_docs = [d[\"doc\"] for d in res.json()[\"rows\"]]\n",
    "print(\"Found {} measurements\\n\".format(len(all_docs)))\n"
   ]
  },
  {
   "cell_type": "code",
   "execution_count": 2,
   "metadata": {
    "collapsed": false
   },
   "outputs": [],
   "source": [
    "import struct\n",
    "import json\n",
    "import numpy\n",
    "def interpret_file(file_name, doc_id=None):\n",
    "    \"\"\"\n",
    "    File structure is:\n",
    "       bytes 0..3: length of json header N (excluding header word)\n",
    "       bytes 4..4+N: json header (ASCII data)\n",
    "       bytes 4+N+1..EOF: binary data of channels\n",
    "    The binary data format depends on what's in the json header:\n",
    "      header[\"channel_list\"] ---> ordered list of channels\n",
    "      header[\"byte_depth\"]    ---> size of binary word\n",
    "      header[\"bit_shift\"]    ---> amount to shift right\n",
    "    Every channel is listed one after another for each time point (fully\n",
    "    interlaced)\n",
    "    \"\"\"\n",
    "    ll = lambda : open(file_name)\n",
    "    if doc_id is not None:\n",
    "        ll = lambda : po.open_file(doc_id, file_name)\n",
    "\n",
    "    with ll() as o:\n",
    "        header_length = struct.unpack(\"<L\", o.read(4))[0]\n",
    "        o.seek(4)\n",
    "        hdr = json.loads(o.read(header_length))\n",
    "        try:\n",
    "            bit_depth = hdr[\"bit_depth\"]\n",
    "        except:\n",
    "            bit_depth = hdr[\"byte_depth\"]\n",
    "        bit_shift = hdr[\"bit_shift\"]\n",
    "        dt = None\n",
    "        if bit_depth == 2: dt = numpy.int16\n",
    "        elif bit_depth ==4: dt = numpy.int32\n",
    "        elif bit_depth == 8: dt = numpy.float64\n",
    "        else: raise Exception(\"unknown bit_depth\")\n",
    "\n",
    "        def channel_dict(dat):\n",
    "            x = dat\n",
    "            if bit_shift != 0:\n",
    "                x = numpy.right_shift(dat, bit_shift)\n",
    "\n",
    "            cl = hdr[\"channel_list\"]\n",
    "            total_ch = len(cl)\n",
    "\n",
    "            # Now create a dictionary of the channels\n",
    "            return dict([(cl[i],x[i::total_ch]) for i in range(len(cl))])\n",
    "\n",
    "        # Reads from position 4 + header_length\n",
    "        o.seek(4+header_length)\n",
    "\n",
    "        # We should always read by a factor of this chunk_size\n",
    "        chunk_size = bit_depth * len(hdr[\"channel_list\"])\n",
    "\n",
    "        # We can iterate over everything...\n",
    "        print(\"Iterating\")\n",
    "        return o.iterate(100*1024*chunk_size), channel_dict, dt"
   ]
  },
  {
   "cell_type": "code",
   "execution_count": 4,
   "metadata": {
    "collapsed": false
   },
   "outputs": [
    {
     "name": "stdout",
     "output_type": "stream",
     "text": [
      "Iterating\n"
     ]
    }
   ],
   "source": [
    "y, cd, dt = interpret_file(all_docs[0][\"external_docs\"].keys()[0], all_docs[0][\"_id\"])\n",
    "adic = None\n",
    "for x in y:\n",
    "    nd = cd(numpy.fromstring(x, dtype=dt))\n",
    "    if not adic:\n",
    "        adic = nd\n",
    "    else:\n",
    "        for g in adic:\n",
    "            adic[g] = numpy.append(adic[g], nd[g])"
   ]
  },
  {
   "cell_type": "code",
   "execution_count": 5,
   "metadata": {
    "collapsed": false
   },
   "outputs": [
    {
     "name": "stdout",
     "output_type": "stream",
     "text": [
      "Populating the interactive namespace from numpy and matplotlib\n"
     ]
    }
   ],
   "source": [
    "%pylab inline\n"
   ]
  },
  {
   "cell_type": "code",
   "execution_count": 6,
   "metadata": {
    "collapsed": false
   },
   "outputs": [
    {
     "data": {
      "text/plain": [
       "[<matplotlib.lines.Line2D at 0x107a1b090>]"
      ]
     },
     "execution_count": 6,
     "metadata": {},
     "output_type": "execute_result"
    },
    {
     "data": {
      "image/png": "[encoded data removed]",
      "text/plain": [
       "<matplotlib.figure.Figure at 0x107a1b0d0>"
      ]
     },
     "metadata": {},
     "output_type": "display_data"
    }
   ],
   "source": [
    "threshold = 1000\n",
    "\n",
    "h = adic[10]\n",
    "trig_find = h[1:] - h[:-1]\n",
    "\n",
    "trig_pts = numpy.argwhere(numpy.abs(trig_find) > threshold)\n",
    "\n",
    "plt.plot(h)\n",
    "plt.plot(trig_find)\n",
    "\n"
   ]
  },
  {
   "cell_type": "code",
   "execution_count": 15,
   "metadata": {
    "collapsed": false
   },
   "outputs": [
    {
     "data": {
      "text/plain": [
       "array([-31195,  18370], dtype=int16)"
      ]
     },
     "execution_count": 15,
     "metadata": {},
     "output_type": "execute_result"
    }
   ],
   "source": [
    "# Now deal with the triggers\n",
    "cur_trig = -1\n",
    "all_triggers = []\n",
    "for x in trig_pts:\n",
    "    if x[0] == cur_trig + 1:\n",
    "        cur_trig = x[0]\n",
    "        continue\n",
    "    else:\n",
    "        cur_trig = x[0]\n",
    "        all_triggers.append(x[0])\n",
    "\n",
    "# This should alternate between pos and negative\n",
    "trig_find[all_triggers]"
   ]
  },
  {
   "cell_type": "code",
   "execution_count": null,
   "metadata": {
    "collapsed": true
   },
   "outputs": [],
   "source": []
  }
 ],
 "metadata": {
  "kernelspec": {
   "display_name": "Python 2",
   "language": "python",
   "name": "python2"
  },
  "language_info": {
   "codemirror_mode": {
    "name": "ipython",
    "version": 2
   },
   "file_extension": ".py",
   "mimetype": "text/x-python",
   "name": "python",
   "nbconvert_exporter": "python",
   "pygments_lexer": "ipython2",
   "version": "2.7.10"
  }
 },
 "nbformat": 4,
 "nbformat_minor": 0
}
